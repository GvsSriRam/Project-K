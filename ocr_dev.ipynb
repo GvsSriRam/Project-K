{
 "cells": [
  {
   "cell_type": "code",
   "execution_count": 1,
   "metadata": {},
   "outputs": [],
   "source": [
    "import cv2\n",
    "import pytesseract"
   ]
  },
  {
   "cell_type": "code",
   "execution_count": 2,
   "metadata": {},
   "outputs": [],
   "source": [
    "pytesseract.pytesseract.tesseract_cmd = r'/opt/homebrew/bin/tesseract'\n",
    "\n",
    "\n",
    "def text_extraction(image_path):\n",
    "    img = cv2.imread(image_path)\n",
    "\n",
    "    gray = cv2.cvtColor(img, cv2.COLOR_BGR2GRAY)\n",
    "    thresh = cv2.threshold(gray, 0, 255, cv2.THRESH_BINARY | cv2.THRESH_OTSU)[1]\n",
    "\n",
    "    custom_config = r'--oem 3 --psm 6'  # Tesseract configurations\n",
    "    extracted_text = pytesseract.image_to_string(thresh, config=custom_config)\n",
    "\n",
    "    return extracted_text"
   ]
  },
  {
   "cell_type": "code",
   "execution_count": 3,
   "metadata": {},
   "outputs": [
    {
     "name": "stdout",
     "output_type": "stream",
     "text": [
      "Give us feedback @ survey walmart.com\n",
      "Thank you! TD #- FROZDGZNV20\n",
      "|\n",
      "~\n",
      "Walmart ><.\n",
      "843-208-3000 Mar : AZANA\n",
      "4400 HIGHWAY 278\n",
      "HARDEEVILLE SC 29927\n",
      "S1# 02832 OPH 009048 TEH 48 TR# 06498\n",
      "1c S0LB 24/1 007023010734 7.98 X .\n",
      "' ONEBITESUPRM 085587300894 F 5.86 R\n",
      "ONEBITE3MEAI 085587300853 F 5.86 Y\n",
      "ssG VEG PIZZ 085493400767 F TAB Y\n",
      "NAT PEP 085493400720 6.48 Y\n",
      "CRN BF POINT 020102861479 F 14.79 ¥\n",
      "SIMPLY LEMON 002500005276 F 4.18 R\n",
      "CHEETOS 002840031404 F 4.48 R\n",
      "BANANAS 000000004041 1KF .\n",
      "2.14 1b @ 4.1b /0.52 1.11 R ot\n",
      "AVOCADO BAG 007074010462 F 4.63 R a\n",
      "SUBTOTAL 62.50\n",
      "TAX 1 9.000 % 0.72\n",
      "1AX 2 2.000 % 1.09\n",
      ": TOTAL 64.31\n",
      "piscV TEND 64.31\n",
      "Discover Credit »** \"xe xxx 0482 1 2\n",
      "APPROVAL 4 017540\n",
      "RLF # 207600064003\n",
      "AID AG000001523010\n",
      "AAC SB4AEBE 7FDAE6389\n",
      "TERMINAL # 18145961\n",
      "03/17/22 13:26:51\n",
      "CHANGE DUE 0.00\n",
      "# ITEMS SOLD 10\n",
      ": TCH 2665 9047 1675 5399 2572\n",
      "| | | (i |\n",
      "a |\n",
      "AANA ith\n",
      "|\n",
      "Walmart+2\n",
      "rg] Become a\n",
      "Re ear, member today\n",
      "(ele GE Scan for 30-day free trial.\n",
      "starting Feb. Ist, gift cards won't\n",
      "discount Walmart oF Murphy USA fuel -\n",
      "03/17/22 ; 43:26:51\n",
      "xxx CUSTOMER COPY***\n",
      "\n"
     ]
    }
   ],
   "source": [
    "image_path = 'walmart_bill_pic.jpeg'\n",
    "print(text_extraction(image_path))"
   ]
  },
  {
   "cell_type": "code",
   "execution_count": 4,
   "metadata": {},
   "outputs": [
    {
     "name": "stdout",
     "output_type": "stream",
     "text": [
      "See back of receipt for your chance\n",
      "to win $1000 ID #:7N77V4¥KXLT\n",
      "1\n",
      "ste\n",
      "Walmart ><.\n",
      "714-998-4473 Mgr: TBD TBD\n",
      "2300 N TUSTIN ST\n",
      "ORANGE CA 92865\n",
      "ST# 02546 OP# 009051 TE# 51 TR# 09005\n",
      "FRAM OIL EG 000910038008 3.88 X\n",
      "AIR FILTER 000910050346 5.84 X\n",
      "LUBRICANT. 007656730001 5.74 X\n",
      "HELMET LINE 070258721034 5.98 X\n",
      "PILLOWCASES 088771907155 14.88 X\n",
      "CKOUT BAGFEE 000000001101K 0.100\n",
      "FRAM OIL EG 000910038008 3.88 X\n",
      "AIR FILTER 000910050346 5.84 X\n",
      "LUBRICANT. 007656730001 5.74 xX\n",
      "HELMET LINE 070258721034 5.98 X\n",
      "PILLOWCASES 088771907155 14.88 X\n",
      "CKOUT BAGFEE 000000001101K 0.100\n",
      "FRAM OIL EG 000910038008 3.88 X\n",
      "AIR FILTER 000910050346 5.84 X\n",
      "LUBRICANT 007656730001 5.74 Xx\n",
      "HELMET LINE 070258721034 5.98 X\n",
      "PILLOWCASES 088771907155 14.88 X\n",
      "CKOUT BAGFEE 000000001101K 0.100\n",
      "FRAM OIL EG 000910038008 3.88 X\n",
      "AIR FILTER 000910050346 5.84 X\n",
      "LUBRICANT 007656730001 5.74 Xx\n",
      "HELMET LINE 070258721034 5.98 X\n",
      "PILLOWCASES 088771907155 14.88 X\n",
      "CKOUT BAGFEE 000000001101K 0.100\n",
      "FRAM OIL EG 000910038008 3.88 X\n",
      "AIR FILTER 000910050346 5.84 X\n",
      "LUBRICANT. 007656730001 5.74 xX\n",
      "HELMET LINE 070258721034 5.98 X\n",
      "PILLOWCASES 088771907155 14.88 X\n",
      "CKOUT BAGFEE 000000001101K 0.190\n",
      "SUBTOTAL 36.42\n",
      "TAX 1 7.750 % 2.81\n",
      "TOTAL 39.23\n",
      "CASH TEND 40.00\n",
      "CHANGE DUE O77\n",
      "# ITEMS SOLD 6\n",
      "TC# 8295 3171 5086 0975 3508\n",
      "Low Prices You Can Trust. Every Day.\n",
      "09/05/23 14:01:22\n",
      "Scan with Walmart app to save receipts\n",
      "a\n",
      "fale\n",
      "\n"
     ]
    }
   ],
   "source": [
    "image_path = 'walmart_bill_scanned.png'\n",
    "print(text_extraction(image_path))"
   ]
  },
  {
   "cell_type": "code",
   "execution_count": 5,
   "metadata": {},
   "outputs": [
    {
     "name": "stdout",
     "output_type": "stream",
     "text": [
      "Ying Thai Kitchen\n",
      "7220 Gueen Arne AVE H\n",
      "Seattle Wa 96108\n",
      "\n",
      "Tel. (206) 285-8424 Fax, (206) 285-8627\n",
      "\n",
      "vain.y ingta ik tchen con\n",
      "\n",
      "Helcone to Ying Thai Kitchen Restaurant.\n",
      "Ordar#:17 Table 2\n",
      "Date: 7/4/2013 7:28 PH\n",
      "Server’ Jack a)\n",
      "44 Ginger Lover $9.50\n",
      "\n",
      "[Pork] 2##]\n",
      "\n",
      "Brom Rtce $2.00\n",
      "Total 2 tten(s) $11.50\n",
      "Sales Tax $1.09\n",
      "Grand Total $12.59\n",
      "Tip Guide\n",
      "TER=ET.O9, | 184=92.27, 2082.52\n",
      "\n",
      "Thank you very much.\n",
      "Cone back again\n",
      "\n"
     ]
    }
   ],
   "source": [
    "image_path = 'random_bill.png'\n",
    "print(text_extraction(image_path))"
   ]
  },
  {
   "cell_type": "code",
   "execution_count": 6,
   "metadata": {},
   "outputs": [],
   "source": [
    "image_path = 'walmart_bill_pic.jpeg'\n",
    "walmart_bill_full_text = text_extraction(image_path)"
   ]
  },
  {
   "cell_type": "code",
   "execution_count": 7,
   "metadata": {},
   "outputs": [],
   "source": [
    "from typing import Any\n",
    "\n",
    "\n",
    "class Expense():\n",
    "\n",
    "    def __init__(self):\n",
    "        self.title = None\n",
    "        self.amt = None\n",
    "        self.paid_by = None\n",
    "        self.split_to = None\n",
    "    \n",
    "    def split(self, paid_by, split_to):\n",
    "        self.paid_by = int(paid_by)\n",
    "        self.split_to = [int(x) for x in split_to.split(\",\")]\n",
    "    \n",
    "    def __call__(self, row):\n",
    "        row_entities = row.strip(r'^[A-Z][^?!.]*[?.!]$').rsplit()[:-1]\n",
    "        self.title = \" \".join(row_entities[:-1])\n",
    "\n",
    "        try:\n",
    "            self.amt = float(row_entities[-1])\n",
    "            check = input(f\"Title - {self.title}\\nAmount - {self.amt}\\nIs this correct? Y - yes, N - no.\")\n",
    "            if check == 'N':\n",
    "                self.amt = float(input(\"Enter the value\"))\n",
    "        except ValueError:\n",
    "            self.amt = float(input(f\"Value not detected, enter the value - \\n{self.row}\"))\n",
    "        \n",
    "        print(self.title)\n",
    "        print(self.amt)\n"
   ]
  },
  {
   "cell_type": "code",
   "execution_count": 8,
   "metadata": {},
   "outputs": [
    {
     "name": "stdout",
     "output_type": "stream",
     "text": [
      "64.31\n",
      "1c S0LB 24/1 007023010734\n",
      "7.98\n",
      "' ONEBITESUPRM 085587300894 F\n",
      "5.86\n",
      "ONEBITE3MEAI 085587300853 F\n",
      "5.86\n",
      "ssG VEG PIZZ 085493400767 F\n",
      "12.0\n",
      "NAT PEP 085493400720\n",
      "6.48\n",
      "CRN BF POINT 020102861479 F\n",
      "14.79\n",
      "SIMPLY LEMON 002500005276 F\n",
      "4.18\n",
      "CHEETOS 002840031404 F\n",
      "4.48\n",
      "BANANAS\n",
      "0.0\n",
      "2.14 1b @ 4.1b /0.52 1.11\n",
      "12.0\n",
      "VOCADO BAG 007074010462 F 4.63\n",
      "12.0\n"
     ]
    },
    {
     "data": {
      "text/plain": [
       "[<__main__.Expense at 0x12d59fa30>,\n",
       " <__main__.Expense at 0x103fa8eb0>,\n",
       " <__main__.Expense at 0x103ec0eb0>,\n",
       " <__main__.Expense at 0x103ef1100>,\n",
       " <__main__.Expense at 0x103eed940>,\n",
       " <__main__.Expense at 0x11d1ec1c0>,\n",
       " <__main__.Expense at 0x12d582eb0>,\n",
       " <__main__.Expense at 0x12d53fcd0>,\n",
       " <__main__.Expense at 0x12d53ffa0>,\n",
       " <__main__.Expense at 0x12d59f850>,\n",
       " <__main__.Expense at 0x12d53fd60>]"
      ]
     },
     "execution_count": 8,
     "metadata": {},
     "output_type": "execute_result"
    }
   ],
   "source": [
    "import re\n",
    "\n",
    "def expenses_detection(text: str):\n",
    "    text = text.split('Walmart ><.\\n')[1]\n",
    "    text, total_amt = re.split(r'\\bTOTAL\\b', text)\n",
    "    expenses = text.splitlines()\n",
    "    expenses = expenses[4:]\n",
    "\n",
    "    total_amt = total_amt.splitlines()[0]\n",
    "    total_amt = float(total_amt)\n",
    "    print(total_amt)\n",
    "\n",
    "    expense_objs = []\n",
    "\n",
    "    for expense in expenses:\n",
    "        if expense.find(\"SUBTOTAL\") != -1:\n",
    "            break\n",
    "        obj = Expense()\n",
    "        obj(expense)\n",
    "        # print(obj.title, obj.amt)\n",
    "        paid_by = input(\"Who the hell paid?\")\n",
    "        split_to = input(\"Split this shit for - \")\n",
    "        obj.split(paid_by, split_to)\n",
    "        expense_objs.append(obj)\n",
    "    \n",
    "    return expense_objs\n",
    "\n",
    "expenses = expenses_detection(walmart_bill_full_text)\n",
    "expenses"
   ]
  },
  {
   "cell_type": "code",
   "execution_count": 9,
   "metadata": {},
   "outputs": [
    {
     "data": {
      "text/plain": [
       "array([[ 0.        ,  0.        ,  0.        ],\n",
       "       [28.54333333, 28.54333333, 28.54333333],\n",
       "       [ 0.        ,  0.        ,  0.        ]])"
      ]
     },
     "execution_count": 9,
     "metadata": {},
     "output_type": "execute_result"
    }
   ],
   "source": [
    "import numpy as np\n",
    "from scipy.sparse import csr_matrix \n",
    "\n",
    "\n",
    "# print(split_matrix)\n",
    "def final_split(expenses):\n",
    "\n",
    "    split_matrix = csr_matrix(([], ([], [])), shape = (3, 3)).toarray()\n",
    "    \n",
    "    for expense in expenses:\n",
    "        n = len(expense.split_to)\n",
    "        row = []\n",
    "        column = []\n",
    "        data = []\n",
    "        \n",
    "        for user in expense.split_to:\n",
    "            row.append(expense.paid_by)\n",
    "            column.append(user)\n",
    "            data.append(expense.amt/n)\n",
    "        \n",
    "        # print(\"expense adding\")\n",
    "        # print(row)\n",
    "        # print(column)\n",
    "        # print(data)\n",
    "        \n",
    "        expense_matrix = csr_matrix((data, (row, column)), shape = (3, 3)).toarray()\n",
    "        # print(expense_matrix)\n",
    "\n",
    "        split_matrix = sum([split_matrix, expense_matrix])\n",
    "        # print(split_matrix)\n",
    "\n",
    "        row = column = data = []\n",
    "\n",
    "    return split_matrix\n",
    "\n",
    "final_split(expenses)"
   ]
  },
  {
   "cell_type": "code",
   "execution_count": null,
   "metadata": {},
   "outputs": [],
   "source": []
  }
 ],
 "metadata": {
  "kernelspec": {
   "display_name": "project-k",
   "language": "python",
   "name": "python3"
  },
  "language_info": {
   "codemirror_mode": {
    "name": "ipython",
    "version": 3
   },
   "file_extension": ".py",
   "mimetype": "text/x-python",
   "name": "python",
   "nbconvert_exporter": "python",
   "pygments_lexer": "ipython3",
   "version": "3.9.6"
  }
 },
 "nbformat": 4,
 "nbformat_minor": 2
}

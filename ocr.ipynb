{
 "cells": [
  {
   "cell_type": "code",
   "execution_count": 1,
   "metadata": {},
   "outputs": [],
   "source": [
    "import cv2\n",
    "import pytesseract"
   ]
  },
  {
   "cell_type": "code",
   "execution_count": 2,
   "metadata": {},
   "outputs": [],
   "source": [
    "pytesseract.pytesseract.tesseract_cmd = r'/opt/homebrew/bin/tesseract'\n",
    "\n",
    "\n",
    "def text_extraction(image_path):\n",
    "    img = cv2.imread(image_path)\n",
    "\n",
    "    gray = cv2.cvtColor(img, cv2.COLOR_BGR2GRAY)\n",
    "    thresh = cv2.threshold(gray, 0, 255, cv2.THRESH_BINARY | cv2.THRESH_OTSU)[1]\n",
    "\n",
    "    custom_config = r'--oem 3 --psm 6'  # Tesseract configurations\n",
    "    extracted_text = pytesseract.image_to_string(thresh, config=custom_config)\n",
    "\n",
    "    return extracted_text"
   ]
  },
  {
   "cell_type": "code",
   "execution_count": 4,
   "metadata": {},
   "outputs": [
    {
     "name": "stdout",
     "output_type": "stream",
     "text": [
      "Give us feedback @ survey walmart.com\n",
      "Thank you! TD #- FROZDGZNV20\n",
      "|\n",
      "~\n",
      "Walmart ><.\n",
      "843-208-3000 Mar : AZANA\n",
      "4400 HIGHWAY 278\n",
      "HARDEEVILLE SC 29927\n",
      "S1# 02832 OPH 009048 TEH 48 TR# 06498\n",
      "1c S0LB 24/1 007023010734 7.98 X .\n",
      "' ONEBITESUPRM 085587300894 F 5.86 R\n",
      "ONEBITE3MEAI 085587300853 F 5.86 Y\n",
      "ssG VEG PIZZ 085493400767 F TAB Y\n",
      "NAT PEP 085493400720 6.48 Y\n",
      "CRN BF POINT 020102861479 F 14.79 ¥\n",
      "SIMPLY LEMON 002500005276 F 4.18 R\n",
      "CHEETOS 002840031404 F 4.48 R\n",
      "BANANAS 000000004041 1KF .\n",
      "2.14 1b @ 4.1b /0.52 1.11 R ot\n",
      "AVOCADO BAG 007074010462 F 4.63 R a\n",
      "SUBTOTAL 62.50\n",
      "TAX 1 9.000 % 0.72\n",
      "1AX 2 2.000 % 1.09\n",
      ": TOTAL 64.31\n",
      "piscV TEND 64.31\n",
      "Discover Credit »** \"xe xxx 0482 1 2\n",
      "APPROVAL 4 017540\n",
      "RLF # 207600064003\n",
      "AID AG000001523010\n",
      "AAC SB4AEBE 7FDAE6389\n",
      "TERMINAL # 18145961\n",
      "03/17/22 13:26:51\n",
      "CHANGE DUE 0.00\n",
      "# ITEMS SOLD 10\n",
      ": TCH 2665 9047 1675 5399 2572\n",
      "| | | (i |\n",
      "a |\n",
      "AANA ith\n",
      "|\n",
      "Walmart+2\n",
      "rg] Become a\n",
      "Re ear, member today\n",
      "(ele GE Scan for 30-day free trial.\n",
      "starting Feb. Ist, gift cards won't\n",
      "discount Walmart oF Murphy USA fuel -\n",
      "03/17/22 ; 43:26:51\n",
      "xxx CUSTOMER COPY***\n",
      "\n"
     ]
    }
   ],
   "source": [
    "image_path = 'walmart_bill_pic.jpeg'\n",
    "print(text_extraction(image_path))"
   ]
  },
  {
   "cell_type": "code",
   "execution_count": 7,
   "metadata": {},
   "outputs": [
    {
     "name": "stdout",
     "output_type": "stream",
     "text": [
      "See back of receipt for your chance\n",
      "to win $1000 ID #:7N77V4¥KXLT\n",
      "1\n",
      "ste\n",
      "Walmart ><.\n",
      "714-998-4473 Mgr: TBD TBD\n",
      "2300 N TUSTIN ST\n",
      "ORANGE CA 92865\n",
      "ST# 02546 OP# 009051 TE# 51 TR# 09005\n",
      "FRAM OIL EG 000910038008 3.88 X\n",
      "AIR FILTER 000910050346 5.84 X\n",
      "LUBRICANT. 007656730001 5.74 X\n",
      "HELMET LINE 070258721034 5.98 X\n",
      "PILLOWCASES 088771907155 14.88 X\n",
      "CKOUT BAGFEE 000000001101K 0.100\n",
      "FRAM OIL EG 000910038008 3.88 X\n",
      "AIR FILTER 000910050346 5.84 X\n",
      "LUBRICANT. 007656730001 5.74 xX\n",
      "HELMET LINE 070258721034 5.98 X\n",
      "PILLOWCASES 088771907155 14.88 X\n",
      "CKOUT BAGFEE 000000001101K 0.100\n",
      "FRAM OIL EG 000910038008 3.88 X\n",
      "AIR FILTER 000910050346 5.84 X\n",
      "LUBRICANT 007656730001 5.74 Xx\n",
      "HELMET LINE 070258721034 5.98 X\n",
      "PILLOWCASES 088771907155 14.88 X\n",
      "CKOUT BAGFEE 000000001101K 0.100\n",
      "FRAM OIL EG 000910038008 3.88 X\n",
      "AIR FILTER 000910050346 5.84 X\n",
      "LUBRICANT 007656730001 5.74 Xx\n",
      "HELMET LINE 070258721034 5.98 X\n",
      "PILLOWCASES 088771907155 14.88 X\n",
      "CKOUT BAGFEE 000000001101K 0.100\n",
      "FRAM OIL EG 000910038008 3.88 X\n",
      "AIR FILTER 000910050346 5.84 X\n",
      "LUBRICANT. 007656730001 5.74 xX\n",
      "HELMET LINE 070258721034 5.98 X\n",
      "PILLOWCASES 088771907155 14.88 X\n",
      "CKOUT BAGFEE 000000001101K 0.190\n",
      "SUBTOTAL 36.42\n",
      "TAX 1 7.750 % 2.81\n",
      "TOTAL 39.23\n",
      "CASH TEND 40.00\n",
      "CHANGE DUE O77\n",
      "# ITEMS SOLD 6\n",
      "TC# 8295 3171 5086 0975 3508\n",
      "Low Prices You Can Trust. Every Day.\n",
      "09/05/23 14:01:22\n",
      "Scan with Walmart app to save receipts\n",
      "a\n",
      "fale\n",
      "\n"
     ]
    }
   ],
   "source": [
    "image_path = 'walmart_bill_scanned.png'\n",
    "print(text_extraction(image_path))"
   ]
  },
  {
   "cell_type": "code",
   "execution_count": 8,
   "metadata": {},
   "outputs": [
    {
     "name": "stdout",
     "output_type": "stream",
     "text": [
      "Ying Thai Kitchen\n",
      "7220 Gueen Arne AVE H\n",
      "Seattle Wa 96108\n",
      "\n",
      "Tel. (206) 285-8424 Fax, (206) 285-8627\n",
      "\n",
      "vain.y ingta ik tchen con\n",
      "\n",
      "Helcone to Ying Thai Kitchen Restaurant.\n",
      "Ordar#:17 Table 2\n",
      "Date: 7/4/2013 7:28 PH\n",
      "Server’ Jack a)\n",
      "44 Ginger Lover $9.50\n",
      "\n",
      "[Pork] 2##]\n",
      "\n",
      "Brom Rtce $2.00\n",
      "Total 2 tten(s) $11.50\n",
      "Sales Tax $1.09\n",
      "Grand Total $12.59\n",
      "Tip Guide\n",
      "TER=ET.O9, | 184=92.27, 2082.52\n",
      "\n",
      "Thank you very much.\n",
      "Cone back again\n",
      "\n"
     ]
    }
   ],
   "source": [
    "image_path = 'random_bill.png'\n",
    "print(text_extraction(image_path))"
   ]
  },
  {
   "cell_type": "code",
   "execution_count": null,
   "metadata": {},
   "outputs": [],
   "source": []
  }
 ],
 "metadata": {
  "kernelspec": {
   "display_name": "project-k",
   "language": "python",
   "name": "python3"
  },
  "language_info": {
   "codemirror_mode": {
    "name": "ipython",
    "version": 3
   },
   "file_extension": ".py",
   "mimetype": "text/x-python",
   "name": "python",
   "nbconvert_exporter": "python",
   "pygments_lexer": "ipython3",
   "version": "3.9.6"
  }
 },
 "nbformat": 4,
 "nbformat_minor": 2
}

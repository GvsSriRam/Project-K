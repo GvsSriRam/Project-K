{
 "cells": [
  {
   "cell_type": "code",
   "execution_count": 43,
   "metadata": {},
   "outputs": [],
   "source": [
    "import base64\n",
    "import vertexai\n",
    "from vertexai.preview.generative_models import GenerativeModel, Part, Image\n",
    "import vertexai.preview.generative_models as generative_models\n",
    "import json\n",
    "# from PIL import Image \n",
    "\n",
    "def generate():\n",
    "\tvertexai.init(project=\"project-k-412000\", location=\"us-central1\")\n",
    "\tmodel = GenerativeModel(\"gemini-pro-vision\")\n",
    "\tresponses = model.generate_content(\n",
    "\t\t[image1, \"\"\"List only the expenses and their quantity, amount in the bill in json format - {\n",
    "\t\t\"name\": \"xxxxxx\",\n",
    "\t\t\"quantity\": \"yyyy\",\n",
    "\t\t\"price\": \"zzzz\"\n",
    "\t\t}. Also, show taxes, totals.\"\"\"],\n",
    "\t\tgeneration_config={\n",
    "\t\t\t\"max_output_tokens\": 2048,\n",
    "\t\t\t\"temperature\": 0.4,\n",
    "\t\t\t\"top_p\": 1,\n",
    "\t\t\t\"top_k\": 32\n",
    "\t\t},\n",
    "\t\tsafety_settings={\n",
    "\t\t\t\tgenerative_models.HarmCategory.HARM_CATEGORY_HATE_SPEECH: generative_models.HarmBlockThreshold.BLOCK_MEDIUM_AND_ABOVE,\n",
    "\t\t\t\tgenerative_models.HarmCategory.HARM_CATEGORY_DANGEROUS_CONTENT: generative_models.HarmBlockThreshold.BLOCK_MEDIUM_AND_ABOVE,\n",
    "\t\t\t\tgenerative_models.HarmCategory.HARM_CATEGORY_SEXUALLY_EXPLICIT: generative_models.HarmBlockThreshold.BLOCK_MEDIUM_AND_ABOVE,\n",
    "\t\t\t\tgenerative_models.HarmCategory.HARM_CATEGORY_HARASSMENT: generative_models.HarmBlockThreshold.BLOCK_MEDIUM_AND_ABOVE,\n",
    "\t\t},\n",
    "\t\tstream=True,\n",
    "\t)\n",
    "\tres = \"\"\n",
    "\tfor response in responses:\n",
    "\t\tres += response.text\n",
    "\t\n",
    "\tres = res[res.find(\"{\"):res.rfind(\"}\")+1]\n",
    "\n",
    "\treturn res\n",
    "\n",
    "image1 = Part.from_image(Image.load_from_file(\"walmart_bill_pic.jpeg\"))\n",
    "res = generate()"
   ]
  },
  {
   "cell_type": "code",
   "execution_count": 44,
   "metadata": {},
   "outputs": [
    {
     "data": {
      "text/plain": [
       "'{\\n  \"name\": \"ONEBITESUPRM\",\\n  \"quantity\": \"1\",\\n  \"price\": \"7.98\"\\n},\\n{\\n  \"name\": \"ONEBITE MEAT\",\\n  \"quantity\": \"1\",\\n  \"price\": \"5.86\"\\n},\\n{\\n  \"name\": \"SSG VEG PIZZ\",\\n  \"quantity\": \"1\",\\n  \"price\": \"5.86\"\\n},\\n{\\n  \"name\": \"NAT PEP\",\\n  \"quantity\": \"1\",\\n  \"price\": \"7.13\"\\n},\\n{\\n  \"name\": \"CRN BF POINT\",\\n  \"quantity\": \"1\",\\n  \"price\": \"14.79\"\\n},\\n{\\n  \"name\": \"SIMPLY LEMON\",\\n  \"quantity\": \"1\",\\n  \"price\": \"4.18\"\\n},\\n{\\n  \"name\": \"CHEETOS\",\\n  \"quantity\": \"1\",\\n  \"price\": \"4.48\"\\n},\\n{\\n  \"name\": \"BANANAS\",\\n  \"quantity\": \"2.14\",\\n  \"price\": \"1.11\"\\n},\\n{\\n  \"name\": \"AVOCADO BAG\",\\n  \"quantity\": \"1\",\\n  \"price\": \"4.63\"\\n},\\n{\\n  \"name\": \"TAX 1\",\\n  \"quantity\": \"1\",\\n  \"price\": \"0.72\"\\n},\\n{\\n  \"name\": \"TAX 2\",\\n  \"quantity\": \"1\",\\n  \"price\": \"1.09\"\\n},\\n{\\n  \"name\": \"TOTAL\",\\n  \"quantity\": \"1\",\\n  \"price\": \"64.31\"\\n}'"
      ]
     },
     "execution_count": 44,
     "metadata": {},
     "output_type": "execute_result"
    }
   ],
   "source": [
    "res"
   ]
  },
  {
   "cell_type": "code",
   "execution_count": 45,
   "metadata": {},
   "outputs": [
    {
     "name": "stdout",
     "output_type": "stream",
     "text": [
      "<class 'str'>\n"
     ]
    },
    {
     "data": {
      "text/plain": [
       "'[{  \"text\": \"ONEBITESUPRM\",  \"quantity\": \"1\",  \"price\": \"7.98\"},{  \"text\": \"ONEBITE MEAT\",  \"quantity\": \"1\",  \"price\": \"5.86\"},{  \"text\": \"SSG VEG PIZZ\",  \"quantity\": \"1\",  \"price\": \"5.86\"},{  \"text\": \"NAT PEP\",  \"quantity\": \"1\",  \"price\": \"7.13\"},{  \"text\": \"CRN BF POINT\",  \"quantity\": \"1\",  \"price\": \"14.79\"},{  \"text\": \"SIMPLY LEMON\",  \"quantity\": \"1\",  \"price\": \"4.18\"},{  \"text\": \"CHEETOS\",  \"quantity\": \"1\",  \"price\": \"4.48\"},{  \"text\": \"BANANAS\",  \"quantity\": \"2.14\",  \"price\": \"1.11\"},{  \"text\": \"AVOCADO BAG\",  \"quantity\": \"1\",  \"price\": \"4.63\"},{  \"text\": \"TAX 1\",  \"quantity\": \"1\",  \"price\": \"0.72\"},{  \"text\": \"TAX 2\",  \"quantity\": \"1\",  \"price\": \"1.09\"},{  \"text\": \"TOTAL\",  \"quantity\": \"1\",  \"price\": \"64.31\"}]'"
      ]
     },
     "execution_count": 45,
     "metadata": {},
     "output_type": "execute_result"
    }
   ],
   "source": [
    "res = '[' + res.replace('\\n', '').strip(',') + ']'\n",
    "print(type(res))\n",
    "\n",
    "res = res.replace(\"\"\"\"name\":\"\"\", \"\"\"\"text\":\"\"\")\n",
    "\n",
    "res"
   ]
  },
  {
   "cell_type": "code",
   "execution_count": 46,
   "metadata": {},
   "outputs": [
    {
     "data": {
      "text/plain": [
       "([{'text': 'ONEBITESUPRM', 'quantity': '1', 'price': '7.98'},\n",
       "  {'text': 'ONEBITE MEAT', 'quantity': '1', 'price': '5.86'},\n",
       "  {'text': 'SSG VEG PIZZ', 'quantity': '1', 'price': '5.86'},\n",
       "  {'text': 'NAT PEP', 'quantity': '1', 'price': '7.13'},\n",
       "  {'text': 'CRN BF POINT', 'quantity': '1', 'price': '14.79'},\n",
       "  {'text': 'SIMPLY LEMON', 'quantity': '1', 'price': '4.18'},\n",
       "  {'text': 'CHEETOS', 'quantity': '1', 'price': '4.48'},\n",
       "  {'text': 'BANANAS', 'quantity': '2.14', 'price': '1.11'},\n",
       "  {'text': 'AVOCADO BAG', 'quantity': '1', 'price': '4.63'},\n",
       "  {'text': 'TAX 1', 'quantity': '1', 'price': '0.72'},\n",
       "  {'text': 'TAX 2', 'quantity': '1', 'price': '1.09'},\n",
       "  {'text': 'TOTAL', 'quantity': '1', 'price': '64.31'}],\n",
       " dict)"
      ]
     },
     "execution_count": 46,
     "metadata": {},
     "output_type": "execute_result"
    }
   ],
   "source": [
    "eval(res), type(eval(res)[0])"
   ]
  },
  {
   "cell_type": "code",
   "execution_count": 47,
   "metadata": {},
   "outputs": [
    {
     "data": {
      "text/plain": [
       "[{'text': 'ONEBITESUPRM', 'quantity': '1', 'price': '7.98'},\n",
       " {'text': 'ONEBITE MEAT', 'quantity': '1', 'price': '5.86'},\n",
       " {'text': 'SSG VEG PIZZ', 'quantity': '1', 'price': '5.86'},\n",
       " {'text': 'NAT PEP', 'quantity': '1', 'price': '7.13'},\n",
       " {'text': 'CRN BF POINT', 'quantity': '1', 'price': '14.79'},\n",
       " {'text': 'SIMPLY LEMON', 'quantity': '1', 'price': '4.18'},\n",
       " {'text': 'CHEETOS', 'quantity': '1', 'price': '4.48'},\n",
       " {'text': 'BANANAS', 'quantity': '2.14', 'price': '1.11'},\n",
       " {'text': 'AVOCADO BAG', 'quantity': '1', 'price': '4.63'},\n",
       " {'text': 'TAX 1', 'quantity': '1', 'price': '0.72'},\n",
       " {'text': 'TAX 2', 'quantity': '1', 'price': '1.09'},\n",
       " {'text': 'TOTAL', 'quantity': '1', 'price': '64.31'}]"
      ]
     },
     "execution_count": 47,
     "metadata": {},
     "output_type": "execute_result"
    }
   ],
   "source": [
    "json.loads(res)"
   ]
  },
  {
   "cell_type": "code",
   "execution_count": null,
   "metadata": {},
   "outputs": [],
   "source": []
  }
 ],
 "metadata": {
  "kernelspec": {
   "display_name": "project-k",
   "language": "python",
   "name": "python3"
  },
  "language_info": {
   "codemirror_mode": {
    "name": "ipython",
    "version": 3
   },
   "file_extension": ".py",
   "mimetype": "text/x-python",
   "name": "python",
   "nbconvert_exporter": "python",
   "pygments_lexer": "ipython3",
   "version": "3.9.6"
  }
 },
 "nbformat": 4,
 "nbformat_minor": 2
}
